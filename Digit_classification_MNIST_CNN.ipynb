{
 "cells": [
  {
   "cell_type": "markdown",
   "metadata": {},
   "source": [
    "# Convolutional neural network with Keras implemented using Amazon Web Services\n",
    "\n",
    "\n",
    "Goal: This notebook is a self-tutorial for the purpose of my own education gathering from various sources about convolutional neural networks along with examples. I love to write and want to write down everything as detailed as possible to make sure every concept is clear and understood properly.\n",
    "\n",
    "It is a tradition to start with hand-written digit classification using MNIST dataset. The MNIST data set and MNIST digit classification problem is describle [here](http://yann.lecun.com/exdb/mnist/).\n",
    "\n",
    "\n",
    "## 1. Get familar with MNIST dataset\n",
    "Let load the MNIST dataset and plot some images to get comfortable with it."
   ]
  },
  {
   "cell_type": "code",
   "execution_count": 11,
   "metadata": {
    "collapsed": false
   },
   "outputs": [
    {
     "name": "stderr",
     "output_type": "stream",
     "text": [
      "Using TensorFlow backend.\n"
     ]
    },
    {
     "data": {
      "image/png": "[encoded data removed]",
      "text/plain": [
       "<matplotlib.figure.Figure at 0x7f3d313e0b10>"
      ]
     },
     "metadata": {},
     "output_type": "display_data"
    }
   ],
   "source": [
    "# import the built-in function to get MNIST dataset\n",
    "from keras.datasets import mnist\n",
    "# import matplotlib to flot some images\n",
    "import matplotlib.pyplot as plt\n",
    "\n",
    "# import numpy to play with the data set as well\n",
    "import numpy as np\n",
    "\n",
    "# downloand the MNIST dataset and split into (x,y_) for training and (x_test,y_test) for testing. x is the flatten\n",
    "# pixel values of each images and y_ is corresponding labels.\n",
    "\n",
    "(x,y_),(x_test,y__) = mnist.load_data()\n",
    "\n",
    "# plot first two gray-scale images and their labels\n",
    "\n",
    "fig = plt.figure()\n",
    "\n",
    "ax = plt.subplot(121)\n",
    "ax.set_title('Label is {label}'.format(label=y_[0]))\n",
    "ax.imshow(x[0], cmap=plt.get_cmap('gray'))\n",
    "\n",
    "ax = plt.subplot(122)\n",
    "ax.set_title('Label is {label}'.format(label=y_[1]))\n",
    "ax.imshow(x[1], cmap=plt.get_cmap('gray'))\n",
    "\n",
    "# show the plot\n",
    "plt.show()"
   ]
  },
  {
   "cell_type": "code",
   "execution_count": 12,
   "metadata": {
    "collapsed": false
   },
   "outputs": [
    {
     "name": "stdout",
     "output_type": "stream",
     "text": [
      "The x data type is <type 'numpy.ndarray'>.\n",
      "Its dimension is (60000, 28, 28).\n",
      "Maximum and minimum values are 255 and 0,repsectively.\n",
      "Label is a (60000,)-long vector consist of 10 classes of integers in [0,9]\n"
     ]
    }
   ],
   "source": [
    "# get familiar with data set\n",
    "print ('The x data type is {}.'.format( type(x)))\n",
    "print ('Its dimension is {}.'.format( x.shape))\n",
    "print ('Maximum and minimum values are {} and {},repsectively.'.format( np.amax(x),np.amin(x)))\n",
    "print ('Label is a {}-long vector consist of 10 classes of integers in [{},{}]'\\\n",
    "       .format(y_.shape,np.amin(y_),np.amax(y_)))"
   ]
  },
  {
   "cell_type": "markdown",
   "metadata": {},
   "source": [
    "So, as expected, x is 3-dimensional numpy ndarray (tensor if you will). There are 60000 images in x, and each image has 28 pixels wide and 28 pixels high. They are 8-bit gray-scale images there for the fixel values are from 0-255.\n",
    "\n",
    "## 2. Preprocessing images so that Keras backend can understand\n",
    "\n",
    "### 2.1. Input image data structure\n",
    "Normally, depend on backend used, Keras expects an image dataset as a tensor (numpy ndarrayt) consisting of 4 dimensions: [sample #][width][height][channel] for Tensorflow backend (for Theano backend, the order is:  [sample #][channel][width][height]). Each datapoint is the *pixel value* where:\n",
    "\n",
    "* [sample #] : the ordering number of the image in the dataset that the pixel belong to\n",
    "* [width] : horizontal coordinate of the pixel\n",
    "* [height] : verticaal coordinate of the pixel\n",
    "* [channel] : color chanel or the image, MNIST images are gray-scale so chennal is always 1. If the input is RGB color images, channel takes values 1,2,or 3 for red, green, or blue components.\n",
    "\n",
    "### 2.2. Preprocessing steps\n",
    "Now, let's do 3-step processing on our MNIST images so that the Keras can understand:\n",
    "1. shape the input image shape into the format used by Keras backend.\n",
    "2. normalize gray-scale values from [0,255] (int) to [0,1] (float32)to make sure the values of neural network aren't getting too big.\n",
    "3. explode the  each label value to binary class vector (1-hot vector), e.g., label 0 now becomes [1,0,0,0,0,0,0,0,0,0].*\n",
    "\n",
    "\n",
    "* remember that y_ consists of 60000 labels taking interger values from 0 to 9? It means after exploding each to binary vector the label data becomes a 6000x10 matrix.\n",
    "\n"
   ]
  },
  {
   "cell_type": "code",
   "execution_count": 13,
   "metadata": {
    "collapsed": false
   },
   "outputs": [
    {
     "name": "stdout",
     "output_type": "stream",
     "text": [
      "The new shape of input dataset (60000, 28, 28, 1) and its data type is float32.\n"
     ]
    }
   ],
   "source": [
    "# Step 1: reshape the image to the format [sample #][width][height][channel] for Tensorflow backend\n",
    "x = x.reshape(x.shape[0], 28, 28, 1).astype('float32')\n",
    "x_test = x_test.reshape(x_test.shape[0], 28, 28, 1).astype('float32')\n",
    "# let see the new shape\n",
    "print('The new shape of input dataset {} and its data type is {}.'. format(x.shape,x.dtype))"
   ]
  },
  {
   "cell_type": "code",
   "execution_count": 14,
   "metadata": {
    "collapsed": true
   },
   "outputs": [],
   "source": [
    "# Step 2: Normalize the pixel gray-scale values\n",
    "x = x/255\n",
    "x_test = x_test/255"
   ]
  },
  {
   "cell_type": "code",
   "execution_count": 15,
   "metadata": {
    "collapsed": false,
    "scrolled": true
   },
   "outputs": [
    {
     "name": "stdout",
     "output_type": "stream",
     "text": [
      "The new shape of label dataset (60000, 10) consisting of 60000 samples and 10 classes.\n"
     ]
    }
   ],
   "source": [
    "# Step 3: Explode the label values to binary vector. To do this we need an utility. \n",
    "from keras.utils import np_utils\n",
    "\n",
    "y_train = np_utils.to_categorical(y_)\n",
    "y_test = np_utils.to_categorical(y__)\n",
    "print('The new shape of label dataset {} consisting of {} samples and {} classes.'.\\\n",
    "      format(y_train.shape,y_train.shape[0],y_train.shape[1]))\n"
   ]
  },
  {
   "cell_type": "markdown",
   "metadata": {},
   "source": [
    "## 3. Building blocks of a convolutional neural network (CNN) model \n",
    "A CNN consists of a sequence of one or more of the following layers: input, convolutional, pooling, flatten, fully-connected, and softmax layers. The process of choosing how many layers and how to stack them is called design a CNN architecture or network topology. In what follows, we will explore convolutiinal, pooling layers and what they do *intuitively*. Next, we will arrange these layers in a sequence to get a model.\n",
    "### 3.1. Convolutional layer\n",
    "\n",
    "A covulutional layer consists of two elements: a filter and a set of output maps. \n",
    "\n",
    "* A fiter is a tensor, typically much smaller size than input, consist of learnable weights. Filter size is a tuning variable.\n",
    "* Output map is the results of applying a filter to different parts of input tensor (multiply element-wise weights to values of the input). It is often that the stride size is smaller than the size of filters so that applications are overlapped. Output map size depends on how we apply the filter (stride), of filters, input dimension, padding. \n",
    "\n",
    "Now lets take an example:\n",
    " \n",
    " Let use 3 filters each has size 1x5x5 (often filter's depth is equal to the depth of input image, in this case, 1). Use stride size of 1. Each input image is a 1x28x28 tensor, thus, applying each filter results in an output map of dimension 24x24 calculated as (28-5)/1+1=24.If we use 3 filters, then there are 3 output maps corresponding to each filter. Thus, convolutional layer outputs a tensor of 3x24x24 for each image. Finally, we input 60000 images, therefore, the output has a dimension of 60000x3x24x24 (figure 1)."
   ]
  },
  {
   "cell_type": "markdown",
   "metadata": {
    "collapsed": true
   },
   "source": [
    "<img src=\"Convolutional_layer.jpg\">\n",
    "\n",
    " *Figure 1:* An example of a convolutional layer."
   ]
  },
  {
   "cell_type": "markdown",
   "metadata": {},
   "source": [
    "### 3.2. Pooling layer\n",
    "Pooling layer is a much simpler version of the convolutional layer. It has 1 receptive field (filter) and an output map. Pooling operation outputs a tensor that approximates all information of its input but is smaller in size by consecutively using a summary statistics (average or maximum) to different parts of the input. As the results, pooling is thought as a technique to compress the information from previous layer.\n",
    "<img src=\"Pooling_layer.jpg\">\n",
    "\n",
    " *Figure 2:* An example of a pooling layer.\n"
   ]
  },
  {
   "cell_type": "markdown",
   "metadata": {},
   "source": [
    "### 3.3. Other layers\n",
    "\n",
    "Activation layers apply actiovation function (relu, sigmoid, tanh, etc) to the output of convolutional or fully connected layers.\n",
    "Flatten layer converts previous layer (could be a tensor) to vectors. This is an intermediate step to input data into fully connected layer.\n",
    "\n",
    "These layers are standard and I already understood, I will not cover them in details."
   ]
  },
  {
   "cell_type": "markdown",
   "metadata": {},
   "source": [
    "## 4. Build, compile, train, and evaluate a CNN model\n",
    "\n",
    "### 4.1. Tuning parameters\n",
    "Before we build a model, it is convenient to define tuning paremeters that will be fed into the model. In this way, we have a neat control over papermeters and it is easy to experiment with different sets of parameters.\n",
    "\n",
    "\n",
    "There are so many tuning parameters that affect performance of the network. For this particular example, let's control batch size, number of epoches, number of convolutional filter (receptive field), filter size, and pooling size. Let's assign these parameter to variables:"
   ]
  },
  {
   "cell_type": "code",
   "execution_count": 16,
   "metadata": {
    "collapsed": false
   },
   "outputs": [],
   "source": [
    "# batch size\n",
    "batch = 128\n",
    "# number of epoches\n",
    "epoch = 12\n",
    "# number of convolutional filters\n",
    "filters = 32\n",
    "# convolution filter size\n",
    "filter_size = (3, 3)\n",
    "# pooling size\n",
    "pooling_size = (2, 2)\n"
   ]
  },
  {
   "cell_type": "markdown",
   "metadata": {},
   "source": [
    "### 4.2. Builing and compile a CNN model\n",
    "#### 4.2.1. Building a CNN model\n",
    "\n",
    "There are many architectures we can choose to construct a CNN such as LeNet, AlexNet, VGG, ResNet,etc. For simplicity, let's consider [this](https://github.com/fchollet/keras/blob/master/examples/mnist_cnn.py) network architecture.\n",
    "\n",
    "<img src=\"CNN_1.jpg\">\n",
    "\n",
    " *Figure 3:* An example of a CNN.\n",
    " \n",
    " \n",
    " The Keras code:"
   ]
  },
  {
   "cell_type": "code",
   "execution_count": 20,
   "metadata": {
    "collapsed": false
   },
   "outputs": [],
   "source": [
    "from keras.models import Sequential\n",
    "from keras.layers import Dense, Dropout, Activation, Flatten\n",
    "from keras.layers import Convolution2D, MaxPooling2D\n",
    "\n",
    "\n",
    "# CNN is a sequential model\n",
    "model = Sequential()\n",
    "\n",
    "# Layer struture:\n",
    "\n",
    "# Conv 1: First convolutional layer. Arguments: number of filters, filter size, padding mode, input structure.\n",
    "model.add(Convolution2D(filters, filter_size[0], filter_size[1],\n",
    "                        border_mode='valid',input_shape=(28,28,1)))\n",
    "# Activ1: First activation layer using relu activation function.\n",
    "model.add(Activation('relu'))\n",
    "# Conv 2: Second convolutional layer.\n",
    "model.add(Convolution2D(filters, filter_size[0], filter_size[1]))\n",
    "# Activ2: Second activation layer using relu activation function.\n",
    "model.add(Activation('relu'))\n",
    "# MaxPool1: First pooling layer using maxpooling method, Argument: pooling size.\n",
    "model.add(MaxPooling2D(pool_size=pooling_size))\n",
    "# Dropout1: First dropout layer. Drop (set to zero) 25% of neurons.\n",
    "model.add(Dropout(0.25))\n",
    "# Flatten1: First flatten layer.\n",
    "model.add(Flatten())\n",
    "# FC1: First fully connected layer.\n",
    "model.add(Dense(128))\n",
    "# Activ 3: Third activation layer using relu activation function.\n",
    "model.add(Activation('relu'))\n",
    "# Dropout2: Second dropout layer. Drop (set to zero) 50% of neurons.\n",
    "model.add(Dropout(0.5))\n",
    "# FC2: Second fully connected layer.\n",
    "model.add(Dense(10))\n",
    "# Activ 3: Forth activation layer using softmax activation function.\n",
    "model.add(Activation('softmax'))"
   ]
  },
  {
   "cell_type": "markdown",
   "metadata": {},
   "source": [
    "#### 4.2.2. Compile a CNN model\n",
    "Now, we already had a model frame, we need to compile it, in particular, we need to have a loss function, an optimizer, and metric to evaluate traing performace."
   ]
  },
  {
   "cell_type": "code",
   "execution_count": 21,
   "metadata": {
    "collapsed": true
   },
   "outputs": [],
   "source": [
    "# compile model by specifying loss function, opimizer, and evaluation metric. In fact, optimizer could \n",
    "# a hyperparemet to experiment with\n",
    "model.compile(loss='categorical_crossentropy',optimizer='adadelta',metrics=['accuracy'])"
   ]
  },
  {
   "cell_type": "markdown",
   "metadata": {},
   "source": [
    "#### 4.2.3. Training and evaluating a CNN model\n",
    "Let's put all together data, tuning parameters, complied mode to train."
   ]
  },
  {
   "cell_type": "code",
   "execution_count": null,
   "metadata": {
    "collapsed": true
   },
   "outputs": [],
   "source": [
    "model.fit(x, y_train, batch_size=batch, nb_epoch=epoch,verbose=1, \n",
    "          validation_data=(x_test, y_test))\n",
    "result = model.evaluate(x_test, y_test, verbose=0)\n",
    "print('Test result is {} and test accuracy is {}'.format(result[0],result[1]))"
   ]
  },
  {
   "cell_type": "markdown",
   "metadata": {},
   "source": [
    "## 5. (Optional) Execute the training process using AWS\n",
    "I follow [this](http://cs224d.stanford.edu/supplementary/aws-tutorial-2.pdf) tutorial from Stanford CS224d Class to setup AWS and run the instance, except for I use the community image machine: ami-125b2c72 (for CS231n class).\n",
    "\n",
    "Basically, there are main steps as follows:\n",
    "1. Sign in AWS and run EC2 instance.\n",
    "2. Choose ami-125b2c72 community AMI:\n",
    "<img src=\"Ami.png\">\n",
    "3. Choose the following GPU configuration:\n",
    "<img src=\"GPU.png\">\n",
    "4. Select a keypair or create a keypair and launch the instance.\n",
    "5. Copy the public IP address\n",
    "<img src=\"IP.png\">\n",
    "6. Open a terminal and ssh to the EC2 instance by using the public IP:\n",
    "ssh -i keras_keypair.pem ubuntu@\n",
    "7. If you see the following screen, it means you are connected to your server and running the instance you launched before:\n",
    "<img src=\"Instance.png\">\n",
    "8. Moving file to the  ECS instance. You will need path to your .pem file, path to files you wnat to move and ECS instance's pbluc DNS. Follow [this](http://docs.aws.amazon.com/AWSEC2/latest/UserGuide/AccessingInstancesLinux.html) guide. Note: remember that you have to open another local terminal in order to copy file and data because the current terminal is running on EC2 instance.  The comman is:\n",
    "scp -i /path/keypair.pem -r /path/your_file ubuntu@publicDNS:~/\n",
    "9. Using vi to config ./theanorc file as follows:\n",
    "<img src=\"Theano_config.png\">\n",
    "10. From the terminal on EC2, execute your python command.\n",
    "<img src=\"GPU_EC2.png\">\n",
    "As you can see the computation is much much faster than excution on a PC with CPU device.\n",
    "\n",
    "\n",
    "\n",
    "\n",
    "\n",
    "Finally, you find that the accuracy is 99.07% after 25 epoches!"
   ]
  },
  {
   "cell_type": "markdown",
   "metadata": {},
   "source": [
    "## 6. Notes on reproducibility \n",
    "\n",
    "For convenient, I wrote the tutorial in IPthon Notebook but run the script on AWS. The scipt is as follows. For reproducibility, just copy the script to, say CNN_MNIST.py file, upload to EC2 and use command: python CNN_MNIST.py (note that I have changed input data structure to use Theano backend.)\n"
   ]
  },
  {
   "cell_type": "code",
   "execution_count": null,
   "metadata": {
    "collapsed": true
   },
   "outputs": [],
   "source": [
    "\n",
    "# import the built-in function to get MNIST dataset\n",
    "from keras.datasets import mnist\n",
    "from keras.models import Sequential\n",
    "from keras.layers.core import Dense, Dropout, Activation, Flatten\n",
    "from keras.layers.convolutional import Convolution2D\n",
    "from keras.layers.convolutional import MaxPooling2D\n",
    "\n",
    "\n",
    "# import numpy and seed for reproducibility\n",
    "import numpy as np\n",
    "np.random.seed(64)\n",
    "# downloand the MNIST dataset and split into (x,y_) for training and (x_test,y_test) for testing.\n",
    "# x is pixel values of each images and y_ is corresponding labels.\n",
    "\n",
    "(x,y_),(x_test,y__) = mnist.load_data()\n",
    "\n",
    "#%% Data preprocess\n",
    "# Step 1: reshape the image to the format [sample #][width][height][channel] for Theano backend\n",
    "from keras import backend as K\n",
    "K.set_image_dim_ordering('th')\n",
    "x = x.reshape(x.shape[0], 1, 28, 28).astype('float32')\n",
    "x_test = x_test.reshape(x_test.shape[0], 1, 28, 28).astype('float32')\n",
    "\n",
    "# Step 2: Normalize the pixel gray-scale values\n",
    "x = x/255\n",
    "x_test = x_test/255\n",
    "# Step 3: Explode the label values to binary vector. To do this we need an utility. \n",
    "from keras.utils import np_utils\n",
    "\n",
    "y_train = np_utils.to_categorical(y_)\n",
    "y_test = np_utils.to_categorical(y__)\n",
    "print(x.shape[0], 'training exmples')\n",
    "print(x_test.shape[0], 'test samples')\n",
    "\n",
    "#%%\n",
    "# batch size\n",
    "batch = 128\n",
    "# number of epoches\n",
    "epoch = 25\n",
    "# number of convolutional filters\n",
    "filters = 32\n",
    "# convolution filter size\n",
    "filter_size = (3, 3)\n",
    "# pooling size\n",
    "pooling_size = (2, 2)\n",
    "#%%\n",
    "\n",
    "# CNN is a sequential model\n",
    "model = Sequential()\n",
    "\n",
    "# Layer struture:\n",
    "\n",
    "# Conv 1: First convolutional layer. Arguments: number of filters, filter size, padding mode, input structure.\n",
    "model.add(Convolution2D(filters, filter_size[0], filter_size[1],\n",
    "                        border_mode='valid',input_shape=(1,28,28)))\n",
    "# Activ1: First activation layer using relu activation function.\n",
    "model.add(Activation('relu'))\n",
    "# Conv 2: Second convolutional layer.\n",
    "model.add(Convolution2D(filters, filter_size[0], filter_size[1]))\n",
    "# Activ2: Second activation layer using relu activation function.\n",
    "model.add(Activation('relu'))\n",
    "# MaxPool1: First pooling layer using maxpooling method, Argument: pooling size.\n",
    "model.add(MaxPooling2D(pool_size=pooling_size))\n",
    "# Dropout1: First dropout layer. Drop (set to zero) 25% of neurons.\n",
    "model.add(Dropout(0.25))\n",
    "# Flatten1: First flatten layer.\n",
    "model.add(Flatten())\n",
    "# FC1: First fully connected layer.\n",
    "model.add(Dense(128))\n",
    "# Activ 3: Third activation layer using relu activation function.\n",
    "model.add(Activation('relu'))\n",
    "# Dropout2: Second dropout layer. Drop (set to zero) 50% of neurons.\n",
    "model.add(Dropout(0.5))\n",
    "# FC2: Second fully connected layer.\n",
    "model.add(Dense(10))\n",
    "# Activ 3: Forth activation layer using softmax activation function.\n",
    "model.add(Activation('softmax'))\n",
    "#%%\n",
    "# compile model by specifying loss function, opimizer, and evaluation metric. In fact, optimizer could \n",
    "# a hyperparemet to experiment with\n",
    "model.compile(loss='categorical_crossentropy',optimizer='adadelta',metrics=['accuracy'])\n",
    "model.fit(x, y_train, batch_size=batch, nb_epoch=epoch,verbose=1, \n",
    "          validation_data=(x_test, y_test))\n",
    "result = model.evaluate(x_test, y_test, verbose=0)\n",
    "print('Test result is {} and test accuracy is {}'.format(result[0],result[1]))\n",
    "\n",
    "\n"
   ]
  },
  {
   "cell_type": "markdown",
   "metadata": {},
   "source": [
    "## 7. What is next?\n",
    "My next step  is using OpenCV to capture and import a hand-written digit image and feed it to the classifier."
   ]
  },
  {
   "cell_type": "code",
   "execution_count": null,
   "metadata": {
    "collapsed": true
   },
   "outputs": [],
   "source": []
  }
 ],
 "metadata": {
  "anaconda-cloud": {},
  "kernelspec": {
   "display_name": "Python [conda root]",
   "language": "python",
   "name": "conda-root-py"
  },
  "language_info": {
   "codemirror_mode": {
    "name": "ipython",
    "version": 2
   },
   "file_extension": ".py",
   "mimetype": "text/x-python",
   "name": "python",
   "nbconvert_exporter": "python",
   "pygments_lexer": "ipython2",
   "version": "2.7.12"
  }
 },
 "nbformat": 4,
 "nbformat_minor": 1
}
